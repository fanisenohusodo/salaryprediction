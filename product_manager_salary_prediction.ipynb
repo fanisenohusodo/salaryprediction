{
 "cells": [
  {
   "cell_type": "code",
   "execution_count": 1,
   "id": "e299e02e",
   "metadata": {},
   "outputs": [],
   "source": [
    "#Import library yang diperlukan\n",
    "import pandas as pd\n",
    "import numpy as np\n",
    "\n",
    "import matplotlib.pyplot as plt\n",
    "import seaborn as sns\n",
    "from matplotlib.gridspec import GridSpec\n",
    "\n",
    "import statsmodels.formula.api as smf\n",
    "import statsmodels.api as sm\n",
    "\n",
    "from sklearn.base import BaseEstimator, RegressorMixin\n",
    "from sklearn.metrics import r2_score\n",
    "\n",
    "from sklearn.model_selection import cross_val_score, cross_validate, KFold"
   ]
  },
  {
   "cell_type": "code",
   "execution_count": 2,
   "id": "4187d69f",
   "metadata": {},
   "outputs": [],
   "source": [
    "#Membuat function untuk menampilkan hasil\n",
    "def print_coef_std_err(results):\n",
    "    \"\"\"\n",
    "    Function to combine estimated coefficients and standard error in one DataFrame\n",
    "    :param results: <statsmodels RegressionResultsWrapper> OLS regression results from statsmodel\n",
    "    :return df: <pandas DataFrame>  combined estimated coefficient and standard error of model estimate\n",
    "    \"\"\"\n",
    "    coef = results.params\n",
    "    std_err = results.bse\n",
    "    \n",
    "    df = pd.DataFrame(data = np.transpose([coef, std_err]), \n",
    "                      index = coef.index, \n",
    "                      columns=[\"coef\",\"std err\"])\n",
    "    return df\n",
    "\n",
    "class StatsmodelsRegressor(BaseEstimator, RegressorMixin):\n",
    "    \"\"\" A universal sklearn-style wrapper for statsmodels regressors \"\"\"\n",
    "    \n",
    "    def __init__(self, sm_class, sm_formula):\n",
    "        self.sm_class = sm_class\n",
    "        self.sm_formula = sm_formula\n",
    "        self.model = None\n",
    "        self.result = None\n",
    " \n",
    "    def fit(self, data, dummy):\n",
    "        self.model = self.sm_class(self.sm_formula, data)\n",
    "        self.result = self.model.fit()\n",
    " \n",
    "    def predict(self,X):\n",
    "        return self.result.predict(X)\n",
    "\n",
    "def kfold_split(data, n_fold):\n",
    "    \"\"\"\n",
    "    Function to combine estimated coefficients and standard error in one DataFrame\n",
    "    :param results: <statsmodels RegressionResultsWrapper> OLS regression results from statsmodel\n",
    "    :param n_fold: <int> Number of fold in k-fold CV\n",
    "    :return df: <pandas DataFrame>  combined estimated coefficient and standard error of model estimate\n",
    "    \"\"\"\n",
    "    kfold = KFold(n_splits = n_fold, \n",
    "                  shuffle = True, \n",
    "                  random_state=123)\n",
    "    fold_train = {}\n",
    "    fold_test = {}\n",
    "\n",
    "    for i, (train, test) in enumerate(kfold.split(data)):\n",
    "        print(f\"fold {i+1}, train data rows: {len(train)}, test data rows: {len(test)}\")\n",
    "        fold_train[i] = data.iloc[train].copy()\n",
    "        fold_test[i] = data.iloc[test].copy()\n",
    "        \n",
    "    return (fold_train, fold_test)"
   ]
  },
  {
   "cell_type": "code",
   "execution_count": 3,
   "id": "edd96535",
   "metadata": {
    "executionInfo": {
     "elapsed": 935,
     "status": "ok",
     "timestamp": 1709420388293,
     "user": {
      "displayName": "terong- chan",
      "userId": "04677994331336327591"
     },
     "user_tz": -420
    },
    "id": "edd96535"
   },
   "outputs": [],
   "source": [
    "pm = pd.read_csv('productmanager.csv')\n"
   ]
  },
  {
   "cell_type": "code",
   "execution_count": 4,
   "id": "b1f3543d",
   "metadata": {
    "id": "b1f3543d",
    "outputId": "eadfa875-adcd-4f45-9e3f-baf8c704db1c"
   },
   "outputs": [
    {
     "data": {
      "text/html": [
       "<div>\n",
       "<style scoped>\n",
       "    .dataframe tbody tr th:only-of-type {\n",
       "        vertical-align: middle;\n",
       "    }\n",
       "\n",
       "    .dataframe tbody tr th {\n",
       "        vertical-align: top;\n",
       "    }\n",
       "\n",
       "    .dataframe thead th {\n",
       "        text-align: right;\n",
       "    }\n",
       "</style>\n",
       "<table border=\"1\" class=\"dataframe\">\n",
       "  <thead>\n",
       "    <tr style=\"text-align: right;\">\n",
       "      <th></th>\n",
       "      <th>age</th>\n",
       "      <th>gender</th>\n",
       "      <th>education_level</th>\n",
       "      <th>years_of_experience</th>\n",
       "      <th>salary</th>\n",
       "      <th>country</th>\n",
       "      <th>race</th>\n",
       "      <th>senior</th>\n",
       "    </tr>\n",
       "  </thead>\n",
       "  <tbody>\n",
       "    <tr>\n",
       "      <th>0</th>\n",
       "      <td>42</td>\n",
       "      <td>Female</td>\n",
       "      <td>2</td>\n",
       "      <td>12</td>\n",
       "      <td>120000</td>\n",
       "      <td>USA</td>\n",
       "      <td>Asian</td>\n",
       "      <td>0</td>\n",
       "    </tr>\n",
       "    <tr>\n",
       "      <th>1</th>\n",
       "      <td>35</td>\n",
       "      <td>Male</td>\n",
       "      <td>2</td>\n",
       "      <td>7</td>\n",
       "      <td>105000</td>\n",
       "      <td>Canada</td>\n",
       "      <td>Asian</td>\n",
       "      <td>0</td>\n",
       "    </tr>\n",
       "    <tr>\n",
       "      <th>2</th>\n",
       "      <td>35</td>\n",
       "      <td>Male</td>\n",
       "      <td>2</td>\n",
       "      <td>10</td>\n",
       "      <td>120000</td>\n",
       "      <td>Canada</td>\n",
       "      <td>White</td>\n",
       "      <td>1</td>\n",
       "    </tr>\n",
       "    <tr>\n",
       "      <th>3</th>\n",
       "      <td>27</td>\n",
       "      <td>Male</td>\n",
       "      <td>1</td>\n",
       "      <td>2</td>\n",
       "      <td>40000</td>\n",
       "      <td>USA</td>\n",
       "      <td>Hispanic</td>\n",
       "      <td>0</td>\n",
       "    </tr>\n",
       "    <tr>\n",
       "      <th>4</th>\n",
       "      <td>34</td>\n",
       "      <td>Male</td>\n",
       "      <td>1</td>\n",
       "      <td>7</td>\n",
       "      <td>95000</td>\n",
       "      <td>China</td>\n",
       "      <td>Chinese</td>\n",
       "      <td>1</td>\n",
       "    </tr>\n",
       "    <tr>\n",
       "      <th>...</th>\n",
       "      <td>...</td>\n",
       "      <td>...</td>\n",
       "      <td>...</td>\n",
       "      <td>...</td>\n",
       "      <td>...</td>\n",
       "      <td>...</td>\n",
       "      <td>...</td>\n",
       "      <td>...</td>\n",
       "    </tr>\n",
       "    <tr>\n",
       "      <th>318</th>\n",
       "      <td>32</td>\n",
       "      <td>Male</td>\n",
       "      <td>1</td>\n",
       "      <td>7</td>\n",
       "      <td>120000</td>\n",
       "      <td>Canada</td>\n",
       "      <td>Asian</td>\n",
       "      <td>0</td>\n",
       "    </tr>\n",
       "    <tr>\n",
       "      <th>319</th>\n",
       "      <td>25</td>\n",
       "      <td>Male</td>\n",
       "      <td>1</td>\n",
       "      <td>1</td>\n",
       "      <td>60000</td>\n",
       "      <td>Canada</td>\n",
       "      <td>Black</td>\n",
       "      <td>0</td>\n",
       "    </tr>\n",
       "    <tr>\n",
       "      <th>320</th>\n",
       "      <td>32</td>\n",
       "      <td>Male</td>\n",
       "      <td>1</td>\n",
       "      <td>7</td>\n",
       "      <td>120000</td>\n",
       "      <td>Australia</td>\n",
       "      <td>Asian</td>\n",
       "      <td>0</td>\n",
       "    </tr>\n",
       "    <tr>\n",
       "      <th>321</th>\n",
       "      <td>25</td>\n",
       "      <td>Male</td>\n",
       "      <td>1</td>\n",
       "      <td>1</td>\n",
       "      <td>60000</td>\n",
       "      <td>Australia</td>\n",
       "      <td>White</td>\n",
       "      <td>0</td>\n",
       "    </tr>\n",
       "    <tr>\n",
       "      <th>322</th>\n",
       "      <td>32</td>\n",
       "      <td>Male</td>\n",
       "      <td>1</td>\n",
       "      <td>7</td>\n",
       "      <td>120000</td>\n",
       "      <td>Australia</td>\n",
       "      <td>Australian</td>\n",
       "      <td>0</td>\n",
       "    </tr>\n",
       "  </tbody>\n",
       "</table>\n",
       "<p>323 rows × 8 columns</p>\n",
       "</div>"
      ],
      "text/plain": [
       "     age  gender  education_level  years_of_experience  salary    country  \\\n",
       "0     42  Female                2                   12  120000        USA   \n",
       "1     35    Male                2                    7  105000     Canada   \n",
       "2     35    Male                2                   10  120000     Canada   \n",
       "3     27    Male                1                    2   40000        USA   \n",
       "4     34    Male                1                    7   95000      China   \n",
       "..   ...     ...              ...                  ...     ...        ...   \n",
       "318   32    Male                1                    7  120000     Canada   \n",
       "319   25    Male                1                    1   60000     Canada   \n",
       "320   32    Male                1                    7  120000  Australia   \n",
       "321   25    Male                1                    1   60000  Australia   \n",
       "322   32    Male                1                    7  120000  Australia   \n",
       "\n",
       "           race  senior  \n",
       "0         Asian       0  \n",
       "1         Asian       0  \n",
       "2         White       1  \n",
       "3      Hispanic       0  \n",
       "4       Chinese       1  \n",
       "..          ...     ...  \n",
       "318       Asian       0  \n",
       "319       Black       0  \n",
       "320       Asian       0  \n",
       "321       White       0  \n",
       "322  Australian       0  \n",
       "\n",
       "[323 rows x 8 columns]"
      ]
     },
     "execution_count": 4,
     "metadata": {},
     "output_type": "execute_result"
    }
   ],
   "source": [
    "pm"
   ]
  },
  {
   "cell_type": "code",
   "execution_count": 5,
   "id": "35201061",
   "metadata": {
    "colab": {
     "base_uri": "https://localhost:8080/"
    },
    "executionInfo": {
     "elapsed": 374,
     "status": "ok",
     "timestamp": 1709420399358,
     "user": {
      "displayName": "terong- chan",
      "userId": "04677994331336327591"
     },
     "user_tz": -420
    },
    "id": "35201061",
    "outputId": "010c72e3-9ef3-472b-e494-d49ad6186d3f"
   },
   "outputs": [
    {
     "name": "stdout",
     "output_type": "stream",
     "text": [
      "<class 'pandas.core.frame.DataFrame'>\n",
      "RangeIndex: 323 entries, 0 to 322\n",
      "Data columns (total 8 columns):\n",
      " #   Column               Non-Null Count  Dtype \n",
      "---  ------               --------------  ----- \n",
      " 0   age                  323 non-null    int64 \n",
      " 1   gender               323 non-null    object\n",
      " 2   education_level      323 non-null    int64 \n",
      " 3   years_of_experience  323 non-null    int64 \n",
      " 4   salary               323 non-null    int64 \n",
      " 5   country              323 non-null    object\n",
      " 6   race                 323 non-null    object\n",
      " 7   senior               323 non-null    int64 \n",
      "dtypes: int64(5), object(3)\n",
      "memory usage: 20.3+ KB\n"
     ]
    }
   ],
   "source": [
    "pm.info()"
   ]
  },
  {
   "cell_type": "code",
   "execution_count": 6,
   "id": "b512348f",
   "metadata": {
    "colab": {
     "base_uri": "https://localhost:8080/",
     "height": 300
    },
    "executionInfo": {
     "elapsed": 387,
     "status": "ok",
     "timestamp": 1709420402056,
     "user": {
      "displayName": "terong- chan",
      "userId": "04677994331336327591"
     },
     "user_tz": -420
    },
    "id": "b512348f",
    "outputId": "fe70e0f5-5a4e-46fd-cafc-d2408f3d6875"
   },
   "outputs": [
    {
     "data": {
      "text/html": [
       "<div>\n",
       "<style scoped>\n",
       "    .dataframe tbody tr th:only-of-type {\n",
       "        vertical-align: middle;\n",
       "    }\n",
       "\n",
       "    .dataframe tbody tr th {\n",
       "        vertical-align: top;\n",
       "    }\n",
       "\n",
       "    .dataframe thead th {\n",
       "        text-align: right;\n",
       "    }\n",
       "</style>\n",
       "<table border=\"1\" class=\"dataframe\">\n",
       "  <thead>\n",
       "    <tr style=\"text-align: right;\">\n",
       "      <th></th>\n",
       "      <th>age</th>\n",
       "      <th>education_level</th>\n",
       "      <th>years_of_experience</th>\n",
       "      <th>salary</th>\n",
       "      <th>senior</th>\n",
       "    </tr>\n",
       "  </thead>\n",
       "  <tbody>\n",
       "    <tr>\n",
       "      <th>count</th>\n",
       "      <td>323.000000</td>\n",
       "      <td>323.000000</td>\n",
       "      <td>323.000000</td>\n",
       "      <td>323.000000</td>\n",
       "      <td>323.000000</td>\n",
       "    </tr>\n",
       "    <tr>\n",
       "      <th>mean</th>\n",
       "      <td>32.145511</td>\n",
       "      <td>1.504644</td>\n",
       "      <td>7.789474</td>\n",
       "      <td>141021.671827</td>\n",
       "      <td>0.018576</td>\n",
       "    </tr>\n",
       "    <tr>\n",
       "      <th>std</th>\n",
       "      <td>4.623113</td>\n",
       "      <td>0.530858</td>\n",
       "      <td>4.167191</td>\n",
       "      <td>48443.309004</td>\n",
       "      <td>0.135231</td>\n",
       "    </tr>\n",
       "    <tr>\n",
       "      <th>min</th>\n",
       "      <td>24.000000</td>\n",
       "      <td>1.000000</td>\n",
       "      <td>1.000000</td>\n",
       "      <td>40000.000000</td>\n",
       "      <td>0.000000</td>\n",
       "    </tr>\n",
       "    <tr>\n",
       "      <th>25%</th>\n",
       "      <td>29.000000</td>\n",
       "      <td>1.000000</td>\n",
       "      <td>4.000000</td>\n",
       "      <td>110000.000000</td>\n",
       "      <td>0.000000</td>\n",
       "    </tr>\n",
       "    <tr>\n",
       "      <th>50%</th>\n",
       "      <td>32.000000</td>\n",
       "      <td>1.000000</td>\n",
       "      <td>7.000000</td>\n",
       "      <td>130000.000000</td>\n",
       "      <td>0.000000</td>\n",
       "    </tr>\n",
       "    <tr>\n",
       "      <th>75%</th>\n",
       "      <td>34.000000</td>\n",
       "      <td>2.000000</td>\n",
       "      <td>11.000000</td>\n",
       "      <td>190000.000000</td>\n",
       "      <td>0.000000</td>\n",
       "    </tr>\n",
       "    <tr>\n",
       "      <th>max</th>\n",
       "      <td>42.000000</td>\n",
       "      <td>3.000000</td>\n",
       "      <td>14.000000</td>\n",
       "      <td>198000.000000</td>\n",
       "      <td>1.000000</td>\n",
       "    </tr>\n",
       "  </tbody>\n",
       "</table>\n",
       "</div>"
      ],
      "text/plain": [
       "              age  education_level  years_of_experience         salary  \\\n",
       "count  323.000000       323.000000           323.000000     323.000000   \n",
       "mean    32.145511         1.504644             7.789474  141021.671827   \n",
       "std      4.623113         0.530858             4.167191   48443.309004   \n",
       "min     24.000000         1.000000             1.000000   40000.000000   \n",
       "25%     29.000000         1.000000             4.000000  110000.000000   \n",
       "50%     32.000000         1.000000             7.000000  130000.000000   \n",
       "75%     34.000000         2.000000            11.000000  190000.000000   \n",
       "max     42.000000         3.000000            14.000000  198000.000000   \n",
       "\n",
       "           senior  \n",
       "count  323.000000  \n",
       "mean     0.018576  \n",
       "std      0.135231  \n",
       "min      0.000000  \n",
       "25%      0.000000  \n",
       "50%      0.000000  \n",
       "75%      0.000000  \n",
       "max      1.000000  "
      ]
     },
     "execution_count": 6,
     "metadata": {},
     "output_type": "execute_result"
    }
   ],
   "source": [
    "pm.describe()"
   ]
  },
  {
   "cell_type": "markdown",
   "id": "1bdfcab7",
   "metadata": {
    "id": "1bdfcab7"
   },
   "source": [
    "## Mengecek missing value"
   ]
  },
  {
   "cell_type": "code",
   "execution_count": 7,
   "id": "db5c1c98",
   "metadata": {
    "colab": {
     "base_uri": "https://localhost:8080/"
    },
    "executionInfo": {
     "elapsed": 389,
     "status": "ok",
     "timestamp": 1709420408823,
     "user": {
      "displayName": "terong- chan",
      "userId": "04677994331336327591"
     },
     "user_tz": -420
    },
    "id": "db5c1c98",
    "outputId": "322f2f74-7e1d-40f9-efe2-8f38e75b5daa"
   },
   "outputs": [
    {
     "data": {
      "text/plain": [
       "age                    0\n",
       "gender                 0\n",
       "education_level        0\n",
       "years_of_experience    0\n",
       "salary                 0\n",
       "country                0\n",
       "race                   0\n",
       "senior                 0\n",
       "dtype: int64"
      ]
     },
     "execution_count": 7,
     "metadata": {},
     "output_type": "execute_result"
    }
   ],
   "source": [
    "pm.isna().sum()"
   ]
  },
  {
   "cell_type": "code",
   "execution_count": 8,
   "id": "55c0bd50",
   "metadata": {
    "colab": {
     "base_uri": "https://localhost:8080/"
    },
    "executionInfo": {
     "elapsed": 344,
     "status": "ok",
     "timestamp": 1709420412206,
     "user": {
      "displayName": "terong- chan",
      "userId": "04677994331336327591"
     },
     "user_tz": -420
    },
    "id": "55c0bd50",
    "outputId": "2248c027-134e-4d9b-9fd7-a71aa098110e"
   },
   "outputs": [
    {
     "data": {
      "text/plain": [
       "185"
      ]
     },
     "execution_count": 8,
     "metadata": {},
     "output_type": "execute_result"
    }
   ],
   "source": [
    "pm.duplicated(keep=False).sum()"
   ]
  },
  {
   "cell_type": "code",
   "execution_count": 9,
   "id": "8d422d91",
   "metadata": {
    "executionInfo": {
     "elapsed": 384,
     "status": "ok",
     "timestamp": 1709420425822,
     "user": {
      "displayName": "terong- chan",
      "userId": "04677994331336327591"
     },
     "user_tz": -420
    },
    "id": "8d422d91"
   },
   "outputs": [],
   "source": [
    "pm = pm.drop_duplicates(keep='first')"
   ]
  },
  {
   "cell_type": "code",
   "execution_count": 10,
   "id": "8cc90bcb",
   "metadata": {
    "colab": {
     "base_uri": "https://localhost:8080/"
    },
    "executionInfo": {
     "elapsed": 339,
     "status": "ok",
     "timestamp": 1709420430197,
     "user": {
      "displayName": "terong- chan",
      "userId": "04677994331336327591"
     },
     "user_tz": -420
    },
    "id": "8cc90bcb",
    "outputId": "6c6cb95f-63eb-4ec0-8eed-7b304a07b601"
   },
   "outputs": [
    {
     "name": "stdout",
     "output_type": "stream",
     "text": [
      "<class 'pandas.core.frame.DataFrame'>\n",
      "Index: 203 entries, 0 to 317\n",
      "Data columns (total 8 columns):\n",
      " #   Column               Non-Null Count  Dtype \n",
      "---  ------               --------------  ----- \n",
      " 0   age                  203 non-null    int64 \n",
      " 1   gender               203 non-null    object\n",
      " 2   education_level      203 non-null    int64 \n",
      " 3   years_of_experience  203 non-null    int64 \n",
      " 4   salary               203 non-null    int64 \n",
      " 5   country              203 non-null    object\n",
      " 6   race                 203 non-null    object\n",
      " 7   senior               203 non-null    int64 \n",
      "dtypes: int64(5), object(3)\n",
      "memory usage: 14.3+ KB\n"
     ]
    }
   ],
   "source": [
    "pm.info()"
   ]
  },
  {
   "cell_type": "markdown",
   "id": "40dd1432",
   "metadata": {
    "id": "40dd1432"
   },
   "source": [
    "## Deskripsi Data"
   ]
  },
  {
   "cell_type": "code",
   "execution_count": 11,
   "id": "0c1a9a6d",
   "metadata": {
    "id": "0c1a9a6d"
   },
   "outputs": [
    {
     "data": {
      "text/plain": [
       "<Axes: xlabel='age', ylabel='Count'>"
      ]
     },
     "execution_count": 11,
     "metadata": {},
     "output_type": "execute_result"
    },
    {
     "data": {
      "image/png": "[encoded data removed]",
      "text/plain": [
       "<Figure size 640x480 with 1 Axes>"
      ]
     },
     "metadata": {},
     "output_type": "display_data"
    }
   ],
   "source": [
    "sns.histplot(data=pm,x='age')"
   ]
  },
  {
   "cell_type": "code",
   "execution_count": 12,
   "id": "4aa6fff3",
   "metadata": {
    "id": "4aa6fff3"
   },
   "outputs": [
    {
     "data": {
      "text/plain": [
       "count    203.000000\n",
       "mean      32.231527\n",
       "std        4.492082\n",
       "min       24.000000\n",
       "25%       29.000000\n",
       "50%       32.000000\n",
       "75%       34.000000\n",
       "max       42.000000\n",
       "Name: age, dtype: float64"
      ]
     },
     "execution_count": 12,
     "metadata": {},
     "output_type": "execute_result"
    }
   ],
   "source": [
    "pm[\"age\"].describe()"
   ]
  },
  {
   "cell_type": "code",
   "execution_count": 13,
   "id": "cf9fe86a",
   "metadata": {
    "id": "cf9fe86a"
   },
   "outputs": [
    {
     "data": {
      "text/plain": [
       "gender\n",
       "Male      129\n",
       "Female     74\n",
       "Name: count, dtype: int64"
      ]
     },
     "execution_count": 13,
     "metadata": {},
     "output_type": "execute_result"
    }
   ],
   "source": [
    "pm[\"gender\"].value_counts()"
   ]
  },
  {
   "cell_type": "code",
   "execution_count": 14,
   "id": "5cbdbdf9",
   "metadata": {
    "id": "5cbdbdf9"
   },
   "outputs": [
    {
     "data": {
      "text/plain": [
       "education_level\n",
       "1    106\n",
       "2     92\n",
       "3      5\n",
       "Name: count, dtype: int64"
      ]
     },
     "execution_count": 14,
     "metadata": {},
     "output_type": "execute_result"
    }
   ],
   "source": [
    "pm[\"education_level\"].value_counts()"
   ]
  },
  {
   "cell_type": "code",
   "execution_count": 15,
   "id": "993360a7",
   "metadata": {
    "id": "993360a7"
   },
   "outputs": [
    {
     "data": {
      "text/plain": [
       "<Axes: xlabel='years_of_experience', ylabel='Count'>"
      ]
     },
     "execution_count": 15,
     "metadata": {},
     "output_type": "execute_result"
    },
    {
     "data": {
      "image/png": "[encoded data removed]",
      "text/plain": [
       "<Figure size 640x480 with 1 Axes>"
      ]
     },
     "metadata": {},
     "output_type": "display_data"
    }
   ],
   "source": [
    "sns.histplot(data=pm,x='years_of_experience')"
   ]
  },
  {
   "cell_type": "code",
   "execution_count": 16,
   "id": "4799c3bd",
   "metadata": {
    "id": "4799c3bd"
   },
   "outputs": [
    {
     "data": {
      "text/plain": [
       "count    203.000000\n",
       "mean       7.921182\n",
       "std        4.137931\n",
       "min        1.000000\n",
       "25%        4.000000\n",
       "50%        8.000000\n",
       "75%       11.000000\n",
       "max       14.000000\n",
       "Name: years_of_experience, dtype: float64"
      ]
     },
     "execution_count": 16,
     "metadata": {},
     "output_type": "execute_result"
    }
   ],
   "source": [
    "pm[\"years_of_experience\"].describe()"
   ]
  },
  {
   "cell_type": "code",
   "execution_count": 17,
   "id": "806339e7",
   "metadata": {
    "id": "806339e7"
   },
   "outputs": [
    {
     "data": {
      "text/plain": [
       "<Axes: xlabel='salary', ylabel='Count'>"
      ]
     },
     "execution_count": 17,
     "metadata": {},
     "output_type": "execute_result"
    },
    {
     "data": {
      "image/png": "[encoded data removed]",
      "text/plain": [
       "<Figure size 640x480 with 1 Axes>"
      ]
     },
     "metadata": {},
     "output_type": "display_data"
    }
   ],
   "source": [
    "sns.histplot(data=pm,x='salary')"
   ]
  },
  {
   "cell_type": "code",
   "execution_count": 18,
   "id": "05c90e99",
   "metadata": {
    "id": "05c90e99"
   },
   "outputs": [
    {
     "data": {
      "text/plain": [
       "count       203.000000\n",
       "mean     143615.763547\n",
       "std       47859.428526\n",
       "min       40000.000000\n",
       "25%      110000.000000\n",
       "50%      150000.000000\n",
       "75%      190000.000000\n",
       "max      198000.000000\n",
       "Name: salary, dtype: float64"
      ]
     },
     "execution_count": 18,
     "metadata": {},
     "output_type": "execute_result"
    }
   ],
   "source": [
    "pm[\"salary\"].describe()"
   ]
  },
  {
   "cell_type": "code",
   "execution_count": 19,
   "id": "edce9f1f",
   "metadata": {
    "id": "edce9f1f"
   },
   "outputs": [
    {
     "data": {
      "text/plain": [
       "country\n",
       "USA          45\n",
       "Australia    44\n",
       "China        39\n",
       "UK           38\n",
       "Canada       37\n",
       "Name: count, dtype: int64"
      ]
     },
     "execution_count": 19,
     "metadata": {},
     "output_type": "execute_result"
    }
   ],
   "source": [
    "pm[\"country\"].value_counts()"
   ]
  },
  {
   "cell_type": "code",
   "execution_count": 20,
   "id": "41297662",
   "metadata": {
    "id": "41297662"
   },
   "outputs": [
    {
     "data": {
      "text/plain": [
       "race\n",
       "Asian               52\n",
       "White               52\n",
       "Korean              17\n",
       "Australian          17\n",
       "Chinese             12\n",
       "Mixed               12\n",
       "African American    11\n",
       "Hispanic            10\n",
       "Black               10\n",
       "Welsh               10\n",
       "Name: count, dtype: int64"
      ]
     },
     "execution_count": 20,
     "metadata": {},
     "output_type": "execute_result"
    }
   ],
   "source": [
    "pm[\"race\"].value_counts()"
   ]
  },
  {
   "cell_type": "code",
   "execution_count": 21,
   "id": "b49097ce",
   "metadata": {
    "id": "b49097ce"
   },
   "outputs": [
    {
     "data": {
      "text/plain": [
       "senior\n",
       "0    197\n",
       "1      6\n",
       "Name: count, dtype: int64"
      ]
     },
     "execution_count": 21,
     "metadata": {},
     "output_type": "execute_result"
    }
   ],
   "source": [
    "pm[\"senior\"].value_counts()"
   ]
  },
  {
   "cell_type": "markdown",
   "id": "fb0f94aa",
   "metadata": {
    "id": "fb0f94aa"
   },
   "source": [
    "## Membangun model regresi dengan satu variabel prediktor"
   ]
  },
  {
   "cell_type": "code",
   "execution_count": 22,
   "id": "91c23c8f",
   "metadata": {
    "id": "91c23c8f"
   },
   "outputs": [
    {
     "data": {
      "image/png": "[encoded data removed]",
      "text/plain": [
       "<Figure size 640x480 with 1 Axes>"
      ]
     },
     "metadata": {},
     "output_type": "display_data"
    }
   ],
   "source": [
    "x = pm[\"years_of_experience\"]\n",
    "y = pm[\"salary\"]\n",
    "\n",
    "# Plot the data\n",
    "plt.scatter(x, y, color = \"purple\", marker=\".\")\n",
    "\n",
    "# Add a legend and labels\n",
    "plt.xlabel(\"lama pengalaman kerja (dalam tahun)\")\n",
    "plt.ylabel(\"gaji (dalam USD)\")\n",
    "\n",
    "# Add a title and adjust the margins\n",
    "plt.title(\"Sebaran data gaji berdasarkan lama pengalaman kerja\")\n",
    "\n",
    "# Show the plot\n",
    "plt.show()"
   ]
  },
  {
   "cell_type": "code",
   "execution_count": 23,
   "id": "cbd203ca",
   "metadata": {
    "id": "cbd203ca"
   },
   "outputs": [
    {
     "data": {
      "text/html": [
       "<div>\n",
       "<style scoped>\n",
       "    .dataframe tbody tr th:only-of-type {\n",
       "        vertical-align: middle;\n",
       "    }\n",
       "\n",
       "    .dataframe tbody tr th {\n",
       "        vertical-align: top;\n",
       "    }\n",
       "\n",
       "    .dataframe thead th {\n",
       "        text-align: right;\n",
       "    }\n",
       "</style>\n",
       "<table border=\"1\" class=\"dataframe\">\n",
       "  <thead>\n",
       "    <tr style=\"text-align: right;\">\n",
       "      <th></th>\n",
       "      <th>coef</th>\n",
       "      <th>std err</th>\n",
       "    </tr>\n",
       "  </thead>\n",
       "  <tbody>\n",
       "    <tr>\n",
       "      <th>Intercept</th>\n",
       "      <td>68866.468031</td>\n",
       "      <td>4213.308302</td>\n",
       "    </tr>\n",
       "    <tr>\n",
       "      <th>years_of_experience</th>\n",
       "      <td>9436.633700</td>\n",
       "      <td>471.701627</td>\n",
       "    </tr>\n",
       "  </tbody>\n",
       "</table>\n",
       "</div>"
      ],
      "text/plain": [
       "                             coef      std err\n",
       "Intercept            68866.468031  4213.308302\n",
       "years_of_experience   9436.633700   471.701627"
      ]
     },
     "execution_count": 23,
     "metadata": {},
     "output_type": "execute_result"
    }
   ],
   "source": [
    "# Create OLS model object\n",
    "model = smf.ols(\"salary ~ years_of_experience\", pm)\n",
    "\n",
    "# Fit the model\n",
    "results_1V = model.fit()\n",
    "\n",
    "# Extract the results (Coefficient and Standard Error) to DataFrame\n",
    "results_1 = print_coef_std_err(results_1V)\n",
    "results_1"
   ]
  },
  {
   "cell_type": "code",
   "execution_count": 24,
   "id": "523d01f7",
   "metadata": {
    "id": "523d01f7"
   },
   "outputs": [
    {
     "data": {
      "text/plain": [
       "0.6656801223369674"
      ]
     },
     "execution_count": 24,
     "metadata": {},
     "output_type": "execute_result"
    }
   ],
   "source": [
    "results_1V.rsquared"
   ]
  },
  {
   "cell_type": "code",
   "execution_count": 25,
   "id": "e290626b",
   "metadata": {
    "id": "e290626b"
   },
   "outputs": [
    {
     "data": {
      "image/png": "[encoded data removed]",
      "text/plain": [
       "<Figure size 640x480 with 1 Axes>"
      ]
     },
     "metadata": {},
     "output_type": "display_data"
    }
   ],
   "source": [
    "predictor = \"years_of_experience\"\n",
    "outcome = \"salary\"\n",
    "data = pm.copy()\n",
    "\n",
    "# Plot the data\n",
    "plt.scatter(data[predictor], data[outcome], color = \"purple\", marker=\".\")\n",
    "\n",
    "# Calculate the fitted values\n",
    "a_hat = results_1.loc[\"Intercept\"][\"coef\"]\n",
    "b_hat = results_1.loc[predictor][\"coef\"]\n",
    "\n",
    "x_domain = np.linspace(np.min(data[predictor]), np.max(data[predictor]), 10000)\n",
    "\n",
    "fitted_values = a_hat + b_hat * x_domain\n",
    "\n",
    "# Plot the fitted line\n",
    "plt.plot(x_domain, fitted_values, label=\"Fitted line\", color = \"red\")\n",
    "\n",
    "# Add a legend and labels\n",
    "plt.legend()\n",
    "plt.ylabel(\"gaji (dalam USD)\")\n",
    "plt.xlabel(\"lama pengalaman kerja (dalam tahun)\")\n",
    "\n",
    "# Add a title and adjust the margins\n",
    "plt.title(\"Data and fitted regression line\")\n",
    "\n",
    "# Show the plot\n",
    "plt.show()"
   ]
  },
  {
   "cell_type": "markdown",
   "id": "eecb57cf",
   "metadata": {
    "id": "eecb57cf"
   },
   "source": [
    "## Membangun model regresi dengan dua variabel prediktor"
   ]
  },
  {
   "cell_type": "code",
   "execution_count": 26,
   "id": "a9704629",
   "metadata": {
    "id": "a9704629",
    "outputId": "d9fe46a0-4ea9-476b-995d-50b7cf289454"
   },
   "outputs": [
    {
     "data": {
      "text/html": [
       "<div>\n",
       "<style scoped>\n",
       "    .dataframe tbody tr th:only-of-type {\n",
       "        vertical-align: middle;\n",
       "    }\n",
       "\n",
       "    .dataframe tbody tr th {\n",
       "        vertical-align: top;\n",
       "    }\n",
       "\n",
       "    .dataframe thead th {\n",
       "        text-align: right;\n",
       "    }\n",
       "</style>\n",
       "<table border=\"1\" class=\"dataframe\">\n",
       "  <thead>\n",
       "    <tr style=\"text-align: right;\">\n",
       "      <th></th>\n",
       "      <th>coef</th>\n",
       "      <th>std err</th>\n",
       "    </tr>\n",
       "  </thead>\n",
       "  <tbody>\n",
       "    <tr>\n",
       "      <th>Intercept</th>\n",
       "      <td>279208.817875</td>\n",
       "      <td>21288.135017</td>\n",
       "    </tr>\n",
       "    <tr>\n",
       "      <th>years_of_experience</th>\n",
       "      <td>17960.022305</td>\n",
       "      <td>934.645185</td>\n",
       "    </tr>\n",
       "    <tr>\n",
       "      <th>age</th>\n",
       "      <td>-8620.679489</td>\n",
       "      <td>860.958617</td>\n",
       "    </tr>\n",
       "  </tbody>\n",
       "</table>\n",
       "</div>"
      ],
      "text/plain": [
       "                              coef       std err\n",
       "Intercept            279208.817875  21288.135017\n",
       "years_of_experience   17960.022305    934.645185\n",
       "age                   -8620.679489    860.958617"
      ]
     },
     "execution_count": 26,
     "metadata": {},
     "output_type": "execute_result"
    }
   ],
   "source": [
    "# Create OLS model object\n",
    "model = smf.ols(\"salary ~ years_of_experience+age\", pm)\n",
    "\n",
    "# Fit the model\n",
    "results_2V = model.fit()\n",
    "\n",
    "# Extract the results (Coefficient and Standard Error) to DataFrame\n",
    "results_2 = print_coef_std_err(results_2V)\n",
    "results_2"
   ]
  },
  {
   "cell_type": "code",
   "execution_count": 27,
   "id": "c8941439",
   "metadata": {
    "id": "c8941439",
    "outputId": "a6d902b0-82aa-44ee-c515-e795dbe80d94"
   },
   "outputs": [
    {
     "data": {
      "text/plain": [
       "0.7773114919766972"
      ]
     },
     "execution_count": 27,
     "metadata": {},
     "output_type": "execute_result"
    }
   ],
   "source": [
    "results_2V.rsquared"
   ]
  },
  {
   "cell_type": "code",
   "execution_count": 28,
   "id": "d7d32eae",
   "metadata": {},
   "outputs": [
    {
     "data": {
      "image/png": "[encoded data removed]",
      "text/plain": [
       "<Figure size 640x480 with 1 Axes>"
      ]
     },
     "metadata": {},
     "output_type": "display_data"
    }
   ],
   "source": [
    "predictors = [\"years_of_experience\",\"age\"]\n",
    "outcome = \"salary\"\n",
    "data = pm\n",
    "results_ = results_2\n",
    "\n",
    "# Plot the data\n",
    "plt.scatter(data[predictors[0]], data[outcome], color = \"blue\", marker=\".\")\n",
    "\n",
    "\n",
    "# x value as mom_iq predictors value\n",
    "x_domain = np.linspace(np.min(data[predictors[0]]), np.max(data[predictors[0]]), 100)\n",
    "\n",
    "# Calculate the fitted values for two lines regarding the mom_hs (0 and 1)\n",
    "beta0_hat = results_.loc[\"Intercept\"][\"coef\"]\n",
    "beta1_hat = results_.loc[predictors[0]][\"coef\"]\n",
    "beta2_hat = results_.loc[predictors[1]][\"coef\"]\n",
    "\n",
    "fitted_values = beta0_hat +  beta1_hat * x_domain  + beta2_hat * data[predictors[1]].mean()\n",
    "\n",
    "# Plot two fitted line\n",
    "plt.plot(x_domain, fitted_values, label = f\"Fitted line on average age\")\n",
    "\n",
    "# Add a legend and labels\n",
    "plt.legend()\n",
    "plt.ylabel(f\"{outcome}\")\n",
    "plt.xlabel(f\"{predictors[0]}\")\n",
    "\n",
    "# Add a title and adjust the margins\n",
    "plt.title(\"Data and fitted regression line \")\n",
    "\n",
    "# Show the plot\n",
    "plt.show()"
   ]
  },
  {
   "cell_type": "code",
   "execution_count": 29,
   "id": "45c20e3d",
   "metadata": {
    "executionInfo": {
     "elapsed": 414,
     "status": "ok",
     "timestamp": 1709420457590,
     "user": {
      "displayName": "terong- chan",
      "userId": "04677994331336327591"
     },
     "user_tz": -420
    },
    "id": "45c20e3d"
   },
   "outputs": [
    {
     "name": "stderr",
     "output_type": "stream",
     "text": [
      "C:\\Users\\JAYA GENTENG\\AppData\\Local\\Temp\\ipykernel_6488\\1574480336.py:4: SettingWithCopyWarning: \n",
      "A value is trying to be set on a copy of a slice from a DataFrame.\n",
      "Try using .loc[row_indexer,col_indexer] = value instead\n",
      "\n",
      "See the caveats in the documentation: https://pandas.pydata.org/pandas-docs/stable/user_guide/indexing.html#returning-a-view-versus-a-copy\n",
      "  pm['c_age'] = (age - np.mean(age))\n"
     ]
    }
   ],
   "source": [
    "#Melakukan centering pada kolom age\n",
    "age = pm['age']\n",
    "\n",
    "pm['c_age'] = (age - np.mean(age))"
   ]
  },
  {
   "cell_type": "code",
   "execution_count": 30,
   "id": "3b2c2f61",
   "metadata": {
    "colab": {
     "base_uri": "https://localhost:8080/"
    },
    "executionInfo": {
     "elapsed": 363,
     "status": "ok",
     "timestamp": 1709420462993,
     "user": {
      "displayName": "terong- chan",
      "userId": "04677994331336327591"
     },
     "user_tz": -420
    },
    "id": "3b2c2f61",
    "outputId": "c03e2a22-f4eb-4e81-bf1e-4b2df83a00f9"
   },
   "outputs": [
    {
     "data": {
      "text/plain": [
       "32.23152709359606"
      ]
     },
     "execution_count": 30,
     "metadata": {},
     "output_type": "execute_result"
    }
   ],
   "source": [
    "np.mean(age)"
   ]
  },
  {
   "cell_type": "code",
   "execution_count": 31,
   "id": "eaab8509",
   "metadata": {
    "colab": {
     "base_uri": "https://localhost:8080/",
     "height": 206
    },
    "executionInfo": {
     "elapsed": 445,
     "status": "ok",
     "timestamp": 1709420470234,
     "user": {
      "displayName": "terong- chan",
      "userId": "04677994331336327591"
     },
     "user_tz": -420
    },
    "id": "eaab8509",
    "outputId": "30a99765-6d3e-4ea3-df62-8e6635eaf5f3",
    "scrolled": true
   },
   "outputs": [
    {
     "data": {
      "text/html": [
       "<div>\n",
       "<style scoped>\n",
       "    .dataframe tbody tr th:only-of-type {\n",
       "        vertical-align: middle;\n",
       "    }\n",
       "\n",
       "    .dataframe tbody tr th {\n",
       "        vertical-align: top;\n",
       "    }\n",
       "\n",
       "    .dataframe thead th {\n",
       "        text-align: right;\n",
       "    }\n",
       "</style>\n",
       "<table border=\"1\" class=\"dataframe\">\n",
       "  <thead>\n",
       "    <tr style=\"text-align: right;\">\n",
       "      <th></th>\n",
       "      <th>age</th>\n",
       "      <th>gender</th>\n",
       "      <th>education_level</th>\n",
       "      <th>years_of_experience</th>\n",
       "      <th>salary</th>\n",
       "      <th>country</th>\n",
       "      <th>race</th>\n",
       "      <th>senior</th>\n",
       "      <th>c_age</th>\n",
       "    </tr>\n",
       "  </thead>\n",
       "  <tbody>\n",
       "    <tr>\n",
       "      <th>0</th>\n",
       "      <td>42</td>\n",
       "      <td>Female</td>\n",
       "      <td>2</td>\n",
       "      <td>12</td>\n",
       "      <td>120000</td>\n",
       "      <td>USA</td>\n",
       "      <td>Asian</td>\n",
       "      <td>0</td>\n",
       "      <td>9.768473</td>\n",
       "    </tr>\n",
       "    <tr>\n",
       "      <th>1</th>\n",
       "      <td>35</td>\n",
       "      <td>Male</td>\n",
       "      <td>2</td>\n",
       "      <td>7</td>\n",
       "      <td>105000</td>\n",
       "      <td>Canada</td>\n",
       "      <td>Asian</td>\n",
       "      <td>0</td>\n",
       "      <td>2.768473</td>\n",
       "    </tr>\n",
       "    <tr>\n",
       "      <th>2</th>\n",
       "      <td>35</td>\n",
       "      <td>Male</td>\n",
       "      <td>2</td>\n",
       "      <td>10</td>\n",
       "      <td>120000</td>\n",
       "      <td>Canada</td>\n",
       "      <td>White</td>\n",
       "      <td>1</td>\n",
       "      <td>2.768473</td>\n",
       "    </tr>\n",
       "    <tr>\n",
       "      <th>3</th>\n",
       "      <td>27</td>\n",
       "      <td>Male</td>\n",
       "      <td>1</td>\n",
       "      <td>2</td>\n",
       "      <td>40000</td>\n",
       "      <td>USA</td>\n",
       "      <td>Hispanic</td>\n",
       "      <td>0</td>\n",
       "      <td>-5.231527</td>\n",
       "    </tr>\n",
       "    <tr>\n",
       "      <th>4</th>\n",
       "      <td>34</td>\n",
       "      <td>Male</td>\n",
       "      <td>1</td>\n",
       "      <td>7</td>\n",
       "      <td>95000</td>\n",
       "      <td>China</td>\n",
       "      <td>Chinese</td>\n",
       "      <td>1</td>\n",
       "      <td>1.768473</td>\n",
       "    </tr>\n",
       "  </tbody>\n",
       "</table>\n",
       "</div>"
      ],
      "text/plain": [
       "   age  gender  education_level  years_of_experience  salary country  \\\n",
       "0   42  Female                2                   12  120000     USA   \n",
       "1   35    Male                2                    7  105000  Canada   \n",
       "2   35    Male                2                   10  120000  Canada   \n",
       "3   27    Male                1                    2   40000     USA   \n",
       "4   34    Male                1                    7   95000   China   \n",
       "\n",
       "       race  senior     c_age  \n",
       "0     Asian       0  9.768473  \n",
       "1     Asian       0  2.768473  \n",
       "2     White       1  2.768473  \n",
       "3  Hispanic       0 -5.231527  \n",
       "4   Chinese       1  1.768473  "
      ]
     },
     "execution_count": 31,
     "metadata": {},
     "output_type": "execute_result"
    }
   ],
   "source": [
    "pm.head()"
   ]
  },
  {
   "cell_type": "code",
   "execution_count": 32,
   "id": "ac8593ff",
   "metadata": {
    "id": "ac8593ff",
    "outputId": "f59cfe4f-0119-49ce-e8c4-c7f663745638"
   },
   "outputs": [
    {
     "data": {
      "text/html": [
       "<div>\n",
       "<style scoped>\n",
       "    .dataframe tbody tr th:only-of-type {\n",
       "        vertical-align: middle;\n",
       "    }\n",
       "\n",
       "    .dataframe tbody tr th {\n",
       "        vertical-align: top;\n",
       "    }\n",
       "\n",
       "    .dataframe thead th {\n",
       "        text-align: right;\n",
       "    }\n",
       "</style>\n",
       "<table border=\"1\" class=\"dataframe\">\n",
       "  <thead>\n",
       "    <tr style=\"text-align: right;\">\n",
       "      <th></th>\n",
       "      <th>coef</th>\n",
       "      <th>std err</th>\n",
       "    </tr>\n",
       "  </thead>\n",
       "  <tbody>\n",
       "    <tr>\n",
       "      <th>Intercept</th>\n",
       "      <td>1351.153364</td>\n",
       "      <td>7572.947949</td>\n",
       "    </tr>\n",
       "    <tr>\n",
       "      <th>years_of_experience</th>\n",
       "      <td>17960.022305</td>\n",
       "      <td>934.645185</td>\n",
       "    </tr>\n",
       "    <tr>\n",
       "      <th>c_age</th>\n",
       "      <td>-8620.679489</td>\n",
       "      <td>860.958617</td>\n",
       "    </tr>\n",
       "  </tbody>\n",
       "</table>\n",
       "</div>"
      ],
      "text/plain": [
       "                             coef      std err\n",
       "Intercept             1351.153364  7572.947949\n",
       "years_of_experience  17960.022305   934.645185\n",
       "c_age                -8620.679489   860.958617"
      ]
     },
     "execution_count": 32,
     "metadata": {},
     "output_type": "execute_result"
    }
   ],
   "source": [
    "# Create OLS model object\n",
    "model = smf.ols(\"salary ~ years_of_experience+c_age\", pm)\n",
    "\n",
    "# Fit the model\n",
    "results_2VB = model.fit()\n",
    "\n",
    "# Extract the results (Coefficient and Standard Error) to DataFrame\n",
    "results_age_yoe = print_coef_std_err(results_2VB)\n",
    "results_age_yoe"
   ]
  },
  {
   "cell_type": "code",
   "execution_count": 33,
   "id": "1250f7e5",
   "metadata": {
    "id": "1250f7e5",
    "outputId": "8a095dbf-df89-4fc7-9640-f8e0a98c0599"
   },
   "outputs": [
    {
     "data": {
      "text/plain": [
       "0.7773114919766972"
      ]
     },
     "execution_count": 33,
     "metadata": {},
     "output_type": "execute_result"
    }
   ],
   "source": [
    "results_2VB.rsquared"
   ]
  },
  {
   "cell_type": "markdown",
   "id": "e46819a8",
   "metadata": {
    "id": "e46819a8"
   },
   "source": [
    "## Membangun model regresi dengan tiga variabel"
   ]
  },
  {
   "cell_type": "code",
   "execution_count": 34,
   "id": "7dae81a5",
   "metadata": {
    "colab": {
     "base_uri": "https://localhost:8080/",
     "height": 143
    },
    "executionInfo": {
     "elapsed": 426,
     "status": "ok",
     "timestamp": 1709420511658,
     "user": {
      "displayName": "terong- chan",
      "userId": "04677994331336327591"
     },
     "user_tz": -420
    },
    "id": "7dae81a5",
    "outputId": "fad9ad83-f593-4619-bfe2-21d6f41e0f43",
    "scrolled": false
   },
   "outputs": [
    {
     "data": {
      "text/html": [
       "<div>\n",
       "<style scoped>\n",
       "    .dataframe tbody tr th:only-of-type {\n",
       "        vertical-align: middle;\n",
       "    }\n",
       "\n",
       "    .dataframe tbody tr th {\n",
       "        vertical-align: top;\n",
       "    }\n",
       "\n",
       "    .dataframe thead th {\n",
       "        text-align: right;\n",
       "    }\n",
       "</style>\n",
       "<table border=\"1\" class=\"dataframe\">\n",
       "  <thead>\n",
       "    <tr style=\"text-align: right;\">\n",
       "      <th></th>\n",
       "      <th>salary</th>\n",
       "    </tr>\n",
       "    <tr>\n",
       "      <th>gender</th>\n",
       "      <th></th>\n",
       "    </tr>\n",
       "  </thead>\n",
       "  <tbody>\n",
       "    <tr>\n",
       "      <th>Female</th>\n",
       "      <td>164459.459459</td>\n",
       "    </tr>\n",
       "    <tr>\n",
       "      <th>Male</th>\n",
       "      <td>131658.914729</td>\n",
       "    </tr>\n",
       "  </tbody>\n",
       "</table>\n",
       "</div>"
      ],
      "text/plain": [
       "               salary\n",
       "gender               \n",
       "Female  164459.459459\n",
       "Male    131658.914729"
      ]
     },
     "execution_count": 34,
     "metadata": {},
     "output_type": "execute_result"
    }
   ],
   "source": [
    "#Menghitung rata-rata gaji berdasarkan gender\n",
    "pm.groupby([\"gender\"])[[\"salary\"]].mean()"
   ]
  },
  {
   "cell_type": "code",
   "execution_count": 35,
   "id": "2ce4df0a",
   "metadata": {
    "executionInfo": {
     "elapsed": 391,
     "status": "ok",
     "timestamp": 1709420539631,
     "user": {
      "displayName": "terong- chan",
      "userId": "04677994331336327591"
     },
     "user_tz": -420
    },
    "id": "2ce4df0a"
   },
   "outputs": [
    {
     "name": "stderr",
     "output_type": "stream",
     "text": [
      "C:\\Users\\JAYA GENTENG\\AppData\\Local\\Temp\\ipykernel_6488\\1161903516.py:2: SettingWithCopyWarning: \n",
      "A value is trying to be set on a copy of a slice from a DataFrame.\n",
      "Try using .loc[row_indexer,col_indexer] = value instead\n",
      "\n",
      "See the caveats in the documentation: https://pandas.pydata.org/pandas-docs/stable/user_guide/indexing.html#returning-a-view-versus-a-copy\n",
      "  pm[\"gender_n\"]=pm[\"gender\"].map({\"Female\":0,\"Male\":1})\n"
     ]
    }
   ],
   "source": [
    "#Menambahkan kolom baru gender dalam format angka. 0 = Female, 1 = Male\n",
    "pm[\"gender_n\"]=pm[\"gender\"].map({\"Female\":0,\"Male\":1})"
   ]
  },
  {
   "cell_type": "code",
   "execution_count": 36,
   "id": "cff13863",
   "metadata": {
    "id": "cff13863",
    "outputId": "981bdcba-ae01-4023-ac31-783201b41081"
   },
   "outputs": [
    {
     "data": {
      "text/html": [
       "<div>\n",
       "<style scoped>\n",
       "    .dataframe tbody tr th:only-of-type {\n",
       "        vertical-align: middle;\n",
       "    }\n",
       "\n",
       "    .dataframe tbody tr th {\n",
       "        vertical-align: top;\n",
       "    }\n",
       "\n",
       "    .dataframe thead th {\n",
       "        text-align: right;\n",
       "    }\n",
       "</style>\n",
       "<table border=\"1\" class=\"dataframe\">\n",
       "  <thead>\n",
       "    <tr style=\"text-align: right;\">\n",
       "      <th></th>\n",
       "      <th>age</th>\n",
       "      <th>gender</th>\n",
       "      <th>education_level</th>\n",
       "      <th>years_of_experience</th>\n",
       "      <th>salary</th>\n",
       "      <th>country</th>\n",
       "      <th>race</th>\n",
       "      <th>senior</th>\n",
       "      <th>c_age</th>\n",
       "      <th>gender_n</th>\n",
       "    </tr>\n",
       "  </thead>\n",
       "  <tbody>\n",
       "    <tr>\n",
       "      <th>0</th>\n",
       "      <td>42</td>\n",
       "      <td>Female</td>\n",
       "      <td>2</td>\n",
       "      <td>12</td>\n",
       "      <td>120000</td>\n",
       "      <td>USA</td>\n",
       "      <td>Asian</td>\n",
       "      <td>0</td>\n",
       "      <td>9.768473</td>\n",
       "      <td>0</td>\n",
       "    </tr>\n",
       "    <tr>\n",
       "      <th>1</th>\n",
       "      <td>35</td>\n",
       "      <td>Male</td>\n",
       "      <td>2</td>\n",
       "      <td>7</td>\n",
       "      <td>105000</td>\n",
       "      <td>Canada</td>\n",
       "      <td>Asian</td>\n",
       "      <td>0</td>\n",
       "      <td>2.768473</td>\n",
       "      <td>1</td>\n",
       "    </tr>\n",
       "    <tr>\n",
       "      <th>2</th>\n",
       "      <td>35</td>\n",
       "      <td>Male</td>\n",
       "      <td>2</td>\n",
       "      <td>10</td>\n",
       "      <td>120000</td>\n",
       "      <td>Canada</td>\n",
       "      <td>White</td>\n",
       "      <td>1</td>\n",
       "      <td>2.768473</td>\n",
       "      <td>1</td>\n",
       "    </tr>\n",
       "    <tr>\n",
       "      <th>3</th>\n",
       "      <td>27</td>\n",
       "      <td>Male</td>\n",
       "      <td>1</td>\n",
       "      <td>2</td>\n",
       "      <td>40000</td>\n",
       "      <td>USA</td>\n",
       "      <td>Hispanic</td>\n",
       "      <td>0</td>\n",
       "      <td>-5.231527</td>\n",
       "      <td>1</td>\n",
       "    </tr>\n",
       "    <tr>\n",
       "      <th>4</th>\n",
       "      <td>34</td>\n",
       "      <td>Male</td>\n",
       "      <td>1</td>\n",
       "      <td>7</td>\n",
       "      <td>95000</td>\n",
       "      <td>China</td>\n",
       "      <td>Chinese</td>\n",
       "      <td>1</td>\n",
       "      <td>1.768473</td>\n",
       "      <td>1</td>\n",
       "    </tr>\n",
       "  </tbody>\n",
       "</table>\n",
       "</div>"
      ],
      "text/plain": [
       "   age  gender  education_level  years_of_experience  salary country  \\\n",
       "0   42  Female                2                   12  120000     USA   \n",
       "1   35    Male                2                    7  105000  Canada   \n",
       "2   35    Male                2                   10  120000  Canada   \n",
       "3   27    Male                1                    2   40000     USA   \n",
       "4   34    Male                1                    7   95000   China   \n",
       "\n",
       "       race  senior     c_age  gender_n  \n",
       "0     Asian       0  9.768473         0  \n",
       "1     Asian       0  2.768473         1  \n",
       "2     White       1  2.768473         1  \n",
       "3  Hispanic       0 -5.231527         1  \n",
       "4   Chinese       1  1.768473         1  "
      ]
     },
     "execution_count": 36,
     "metadata": {},
     "output_type": "execute_result"
    }
   ],
   "source": [
    "pm.head()"
   ]
  },
  {
   "cell_type": "code",
   "execution_count": 37,
   "id": "7dd5a884",
   "metadata": {
    "colab": {
     "base_uri": "https://localhost:8080/",
     "height": 175
    },
    "executionInfo": {
     "elapsed": 362,
     "status": "ok",
     "timestamp": 1709420587706,
     "user": {
      "displayName": "terong- chan",
      "userId": "04677994331336327591"
     },
     "user_tz": -420
    },
    "id": "7dd5a884",
    "outputId": "7a1227ca-b3a9-4d47-e34d-a239e3151f59"
   },
   "outputs": [
    {
     "data": {
      "text/html": [
       "<div>\n",
       "<style scoped>\n",
       "    .dataframe tbody tr th:only-of-type {\n",
       "        vertical-align: middle;\n",
       "    }\n",
       "\n",
       "    .dataframe tbody tr th {\n",
       "        vertical-align: top;\n",
       "    }\n",
       "\n",
       "    .dataframe thead th {\n",
       "        text-align: right;\n",
       "    }\n",
       "</style>\n",
       "<table border=\"1\" class=\"dataframe\">\n",
       "  <thead>\n",
       "    <tr style=\"text-align: right;\">\n",
       "      <th></th>\n",
       "      <th>coef</th>\n",
       "      <th>std err</th>\n",
       "    </tr>\n",
       "  </thead>\n",
       "  <tbody>\n",
       "    <tr>\n",
       "      <th>Intercept</th>\n",
       "      <td>19192.910916</td>\n",
       "      <td>9347.988270</td>\n",
       "    </tr>\n",
       "    <tr>\n",
       "      <th>years_of_experience</th>\n",
       "      <td>16608.947115</td>\n",
       "      <td>1011.344104</td>\n",
       "    </tr>\n",
       "    <tr>\n",
       "      <th>c_age</th>\n",
       "      <td>-7417.904382</td>\n",
       "      <td>925.998445</td>\n",
       "    </tr>\n",
       "    <tr>\n",
       "      <th>gender_n</th>\n",
       "      <td>-11235.254854</td>\n",
       "      <td>3587.429366</td>\n",
       "    </tr>\n",
       "  </tbody>\n",
       "</table>\n",
       "</div>"
      ],
      "text/plain": [
       "                             coef      std err\n",
       "Intercept            19192.910916  9347.988270\n",
       "years_of_experience  16608.947115  1011.344104\n",
       "c_age                -7417.904382   925.998445\n",
       "gender_n            -11235.254854  3587.429366"
      ]
     },
     "execution_count": 37,
     "metadata": {},
     "output_type": "execute_result"
    }
   ],
   "source": [
    "# Create OLS model object\n",
    "model = smf.ols(\"salary ~ years_of_experience+c_age+gender_n\", pm)\n",
    "\n",
    "# Fit the model\n",
    "results_3VA = model.fit()\n",
    "\n",
    "# Extract the results (Coefficient and Standard Error) to DataFrame\n",
    "results_3V1 = print_coef_std_err(results_3VA)\n",
    "results_3V1"
   ]
  },
  {
   "cell_type": "code",
   "execution_count": 38,
   "id": "48859852",
   "metadata": {
    "colab": {
     "base_uri": "https://localhost:8080/"
    },
    "executionInfo": {
     "elapsed": 12,
     "status": "ok",
     "timestamp": 1709420866770,
     "user": {
      "displayName": "terong- chan",
      "userId": "04677994331336327591"
     },
     "user_tz": -420
    },
    "id": "48859852",
    "outputId": "5949f9ef-518f-456c-889d-dc91053e986a",
    "scrolled": true
   },
   "outputs": [
    {
     "data": {
      "text/plain": [
       "0.7877719074120972"
      ]
     },
     "execution_count": 38,
     "metadata": {},
     "output_type": "execute_result"
    }
   ],
   "source": [
    "results_3VA.rsquared"
   ]
  },
  {
   "cell_type": "markdown",
   "id": "a46bbd96",
   "metadata": {
    "id": "98b47f18"
   },
   "source": [
    "## Melakukan K-Fold Cross Validation"
   ]
  },
  {
   "cell_type": "code",
   "execution_count": 39,
   "id": "0d340def",
   "metadata": {
    "id": "0d340def",
    "scrolled": true
   },
   "outputs": [],
   "source": [
    "# Create a class model\n",
    "\n",
    "ols_all_media = StatsmodelsRegressor(smf.ols, \"salary ~ years_of_experience+c_age+gender_n\")"
   ]
  },
  {
   "cell_type": "code",
   "execution_count": 40,
   "id": "00be16ea",
   "metadata": {
    "id": "00be16ea"
   },
   "outputs": [],
   "source": [
    "# Create k-fold splitter object\n",
    "\n",
    "kfold = KFold(n_splits=3, shuffle = True, random_state=123)"
   ]
  },
  {
   "cell_type": "code",
   "execution_count": 41,
   "id": "9b02901a",
   "metadata": {
    "id": "9b02901a"
   },
   "outputs": [
    {
     "data": {
      "text/html": [
       "<div>\n",
       "<style scoped>\n",
       "    .dataframe tbody tr th:only-of-type {\n",
       "        vertical-align: middle;\n",
       "    }\n",
       "\n",
       "    .dataframe tbody tr th {\n",
       "        vertical-align: top;\n",
       "    }\n",
       "\n",
       "    .dataframe thead th {\n",
       "        text-align: right;\n",
       "    }\n",
       "</style>\n",
       "<table border=\"1\" class=\"dataframe\">\n",
       "  <thead>\n",
       "    <tr style=\"text-align: right;\">\n",
       "      <th></th>\n",
       "      <th>test_rsquared</th>\n",
       "      <th>folds</th>\n",
       "    </tr>\n",
       "  </thead>\n",
       "  <tbody>\n",
       "    <tr>\n",
       "      <th>0</th>\n",
       "      <td>0.819925</td>\n",
       "      <td>Folds 1</td>\n",
       "    </tr>\n",
       "    <tr>\n",
       "      <th>1</th>\n",
       "      <td>0.770175</td>\n",
       "      <td>Folds 2</td>\n",
       "    </tr>\n",
       "    <tr>\n",
       "      <th>2</th>\n",
       "      <td>0.699284</td>\n",
       "      <td>Folds 3</td>\n",
       "    </tr>\n",
       "  </tbody>\n",
       "</table>\n",
       "</div>"
      ],
      "text/plain": [
       "   test_rsquared    folds\n",
       "0       0.819925  Folds 1\n",
       "1       0.770175  Folds 2\n",
       "2       0.699284  Folds 3"
      ]
     },
     "execution_count": 41,
     "metadata": {},
     "output_type": "execute_result"
    }
   ],
   "source": [
    "scores_ols_all_media = cross_val_score(estimator = ols_all_media,\n",
    "                                       X = pm,\n",
    "                                       y = pm[\"salary\"],\n",
    "                                       cv = kfold,\n",
    "                                       scoring = \"r2\")\n",
    "scores_ols_all_media = pd.DataFrame(data = scores_ols_all_media, \n",
    "                                    columns=[\"test_rsquared\"])\n",
    "scores_ols_all_media[\"folds\"] = [f\"Folds {i+1}\" for i in range(3)]\n",
    "scores_ols_all_media"
   ]
  },
  {
   "cell_type": "code",
   "execution_count": 42,
   "id": "2e22be0a",
   "metadata": {
    "id": "2e22be0a"
   },
   "outputs": [
    {
     "data": {
      "text/plain": [
       "0.7631282113332875"
      ]
     },
     "execution_count": 42,
     "metadata": {},
     "output_type": "execute_result"
    }
   ],
   "source": [
    "scores_ols_all_media[\"test_rsquared\"].mean()"
   ]
  },
  {
   "cell_type": "code",
   "execution_count": 43,
   "id": "4b0e0a48",
   "metadata": {
    "id": "4b0e0a48"
   },
   "outputs": [],
   "source": [
    "intercept = results_3V1[\"coef\"][\"Intercept\"]\n",
    "co_yo_exp = results_3V1[\"coef\"][\"years_of_experience\"]\n",
    "co_age = results_3V1[\"coef\"][\"c_age\"]\n",
    "co_gender = results_3V1[\"coef\"][\"gender_n\"]"
   ]
  },
  {
   "cell_type": "code",
   "execution_count": 44,
   "id": "fd79ae61",
   "metadata": {
    "id": "fd79ae61"
   },
   "outputs": [],
   "source": [
    "test = pd.read_csv('test.csv')"
   ]
  },
  {
   "cell_type": "code",
   "execution_count": 45,
   "id": "b887b8fa",
   "metadata": {
    "id": "b887b8fa"
   },
   "outputs": [
    {
     "data": {
      "text/html": [
       "<div>\n",
       "<style scoped>\n",
       "    .dataframe tbody tr th:only-of-type {\n",
       "        vertical-align: middle;\n",
       "    }\n",
       "\n",
       "    .dataframe tbody tr th {\n",
       "        vertical-align: top;\n",
       "    }\n",
       "\n",
       "    .dataframe thead th {\n",
       "        text-align: right;\n",
       "    }\n",
       "</style>\n",
       "<table border=\"1\" class=\"dataframe\">\n",
       "  <thead>\n",
       "    <tr style=\"text-align: right;\">\n",
       "      <th></th>\n",
       "      <th>Name</th>\n",
       "      <th>Age</th>\n",
       "      <th>Years_of_experience</th>\n",
       "      <th>Gender</th>\n",
       "      <th>Education Level</th>\n",
       "      <th>Country</th>\n",
       "    </tr>\n",
       "  </thead>\n",
       "  <tbody>\n",
       "    <tr>\n",
       "      <th>0</th>\n",
       "      <td>Ester</td>\n",
       "      <td>32</td>\n",
       "      <td>6</td>\n",
       "      <td>Female</td>\n",
       "      <td>2</td>\n",
       "      <td>USA</td>\n",
       "    </tr>\n",
       "    <tr>\n",
       "      <th>1</th>\n",
       "      <td>Philip</td>\n",
       "      <td>36</td>\n",
       "      <td>8</td>\n",
       "      <td>Male</td>\n",
       "      <td>3</td>\n",
       "      <td>Australia</td>\n",
       "    </tr>\n",
       "    <tr>\n",
       "      <th>2</th>\n",
       "      <td>Peter</td>\n",
       "      <td>40</td>\n",
       "      <td>12</td>\n",
       "      <td>Male</td>\n",
       "      <td>2</td>\n",
       "      <td>UK</td>\n",
       "    </tr>\n",
       "    <tr>\n",
       "      <th>3</th>\n",
       "      <td>Xiang</td>\n",
       "      <td>26</td>\n",
       "      <td>3</td>\n",
       "      <td>Female</td>\n",
       "      <td>1</td>\n",
       "      <td>China</td>\n",
       "    </tr>\n",
       "    <tr>\n",
       "      <th>4</th>\n",
       "      <td>Erick</td>\n",
       "      <td>45</td>\n",
       "      <td>20</td>\n",
       "      <td>Male</td>\n",
       "      <td>1</td>\n",
       "      <td>Canada</td>\n",
       "    </tr>\n",
       "  </tbody>\n",
       "</table>\n",
       "</div>"
      ],
      "text/plain": [
       "     Name  Age  Years_of_experience  Gender  Education Level    Country\n",
       "0   Ester   32                    6  Female                2        USA\n",
       "1  Philip   36                    8    Male                3  Australia\n",
       "2   Peter   40                   12    Male                2         UK\n",
       "3   Xiang   26                    3  Female                1      China\n",
       "4   Erick   45                   20    Male                1     Canada"
      ]
     },
     "execution_count": 45,
     "metadata": {},
     "output_type": "execute_result"
    }
   ],
   "source": [
    "test"
   ]
  },
  {
   "cell_type": "code",
   "execution_count": 46,
   "id": "52442609",
   "metadata": {},
   "outputs": [
    {
     "data": {
      "text/html": [
       "<div>\n",
       "<style scoped>\n",
       "    .dataframe tbody tr th:only-of-type {\n",
       "        vertical-align: middle;\n",
       "    }\n",
       "\n",
       "    .dataframe tbody tr th {\n",
       "        vertical-align: top;\n",
       "    }\n",
       "\n",
       "    .dataframe thead th {\n",
       "        text-align: right;\n",
       "    }\n",
       "</style>\n",
       "<table border=\"1\" class=\"dataframe\">\n",
       "  <thead>\n",
       "    <tr style=\"text-align: right;\">\n",
       "      <th></th>\n",
       "      <th>Name</th>\n",
       "      <th>Age</th>\n",
       "      <th>Years_of_experience</th>\n",
       "      <th>Gender</th>\n",
       "      <th>Education Level</th>\n",
       "      <th>Country</th>\n",
       "    </tr>\n",
       "  </thead>\n",
       "  <tbody>\n",
       "    <tr>\n",
       "      <th>0</th>\n",
       "      <td>Ester</td>\n",
       "      <td>32</td>\n",
       "      <td>6</td>\n",
       "      <td>Female</td>\n",
       "      <td>2</td>\n",
       "      <td>USA</td>\n",
       "    </tr>\n",
       "    <tr>\n",
       "      <th>1</th>\n",
       "      <td>Philip</td>\n",
       "      <td>36</td>\n",
       "      <td>8</td>\n",
       "      <td>Male</td>\n",
       "      <td>3</td>\n",
       "      <td>Australia</td>\n",
       "    </tr>\n",
       "    <tr>\n",
       "      <th>2</th>\n",
       "      <td>Peter</td>\n",
       "      <td>40</td>\n",
       "      <td>12</td>\n",
       "      <td>Male</td>\n",
       "      <td>2</td>\n",
       "      <td>UK</td>\n",
       "    </tr>\n",
       "    <tr>\n",
       "      <th>3</th>\n",
       "      <td>Xiang</td>\n",
       "      <td>26</td>\n",
       "      <td>3</td>\n",
       "      <td>Female</td>\n",
       "      <td>1</td>\n",
       "      <td>China</td>\n",
       "    </tr>\n",
       "    <tr>\n",
       "      <th>4</th>\n",
       "      <td>Erick</td>\n",
       "      <td>45</td>\n",
       "      <td>20</td>\n",
       "      <td>Male</td>\n",
       "      <td>1</td>\n",
       "      <td>Canada</td>\n",
       "    </tr>\n",
       "  </tbody>\n",
       "</table>\n",
       "</div>"
      ],
      "text/plain": [
       "     Name  Age  Years_of_experience  Gender  Education Level    Country\n",
       "0   Ester   32                    6  Female                2        USA\n",
       "1  Philip   36                    8    Male                3  Australia\n",
       "2   Peter   40                   12    Male                2         UK\n",
       "3   Xiang   26                    3  Female                1      China\n",
       "4   Erick   45                   20    Male                1     Canada"
      ]
     },
     "execution_count": 46,
     "metadata": {},
     "output_type": "execute_result"
    }
   ],
   "source": [
    "test"
   ]
  },
  {
   "cell_type": "code",
   "execution_count": 47,
   "id": "6ed4a228",
   "metadata": {},
   "outputs": [],
   "source": [
    "#Mengubah gender menjadi variabel biner\n",
    "test[\"Gender_n\"]=test[\"Gender\"].map({\"Female\":0,\"Male\":1})"
   ]
  },
  {
   "cell_type": "code",
   "execution_count": 48,
   "id": "2008efc6",
   "metadata": {},
   "outputs": [],
   "source": [
    "test[\"estimated_salary\"] = intercept + \\\n",
    "                             (co_yo_exp * test[\"Years_of_experience\"]) + \\\n",
    "                             (co_age * (test[\"Age\"]-32)) + \\\n",
    "                             (co_gender * test[\"Gender_n\"])"
   ]
  },
  {
   "cell_type": "code",
   "execution_count": 49,
   "id": "69d5c094",
   "metadata": {},
   "outputs": [
    {
     "data": {
      "text/html": [
       "<div>\n",
       "<style scoped>\n",
       "    .dataframe tbody tr th:only-of-type {\n",
       "        vertical-align: middle;\n",
       "    }\n",
       "\n",
       "    .dataframe tbody tr th {\n",
       "        vertical-align: top;\n",
       "    }\n",
       "\n",
       "    .dataframe thead th {\n",
       "        text-align: right;\n",
       "    }\n",
       "</style>\n",
       "<table border=\"1\" class=\"dataframe\">\n",
       "  <thead>\n",
       "    <tr style=\"text-align: right;\">\n",
       "      <th></th>\n",
       "      <th>Name</th>\n",
       "      <th>Age</th>\n",
       "      <th>Years_of_experience</th>\n",
       "      <th>Gender</th>\n",
       "      <th>Education Level</th>\n",
       "      <th>Country</th>\n",
       "      <th>Gender_n</th>\n",
       "      <th>estimated_salary</th>\n",
       "    </tr>\n",
       "  </thead>\n",
       "  <tbody>\n",
       "    <tr>\n",
       "      <th>0</th>\n",
       "      <td>Ester</td>\n",
       "      <td>32</td>\n",
       "      <td>6</td>\n",
       "      <td>Female</td>\n",
       "      <td>2</td>\n",
       "      <td>USA</td>\n",
       "      <td>0</td>\n",
       "      <td>118846.593603</td>\n",
       "    </tr>\n",
       "    <tr>\n",
       "      <th>1</th>\n",
       "      <td>Philip</td>\n",
       "      <td>36</td>\n",
       "      <td>8</td>\n",
       "      <td>Male</td>\n",
       "      <td>3</td>\n",
       "      <td>Australia</td>\n",
       "      <td>1</td>\n",
       "      <td>111157.615451</td>\n",
       "    </tr>\n",
       "    <tr>\n",
       "      <th>2</th>\n",
       "      <td>Peter</td>\n",
       "      <td>40</td>\n",
       "      <td>12</td>\n",
       "      <td>Male</td>\n",
       "      <td>2</td>\n",
       "      <td>UK</td>\n",
       "      <td>1</td>\n",
       "      <td>147921.786381</td>\n",
       "    </tr>\n",
       "    <tr>\n",
       "      <th>3</th>\n",
       "      <td>Xiang</td>\n",
       "      <td>26</td>\n",
       "      <td>3</td>\n",
       "      <td>Female</td>\n",
       "      <td>1</td>\n",
       "      <td>China</td>\n",
       "      <td>0</td>\n",
       "      <td>113527.178551</td>\n",
       "    </tr>\n",
       "    <tr>\n",
       "      <th>4</th>\n",
       "      <td>Erick</td>\n",
       "      <td>45</td>\n",
       "      <td>20</td>\n",
       "      <td>Male</td>\n",
       "      <td>1</td>\n",
       "      <td>Canada</td>\n",
       "      <td>1</td>\n",
       "      <td>243703.841388</td>\n",
       "    </tr>\n",
       "  </tbody>\n",
       "</table>\n",
       "</div>"
      ],
      "text/plain": [
       "     Name  Age  Years_of_experience  Gender  Education Level    Country  \\\n",
       "0   Ester   32                    6  Female                2        USA   \n",
       "1  Philip   36                    8    Male                3  Australia   \n",
       "2   Peter   40                   12    Male                2         UK   \n",
       "3   Xiang   26                    3  Female                1      China   \n",
       "4   Erick   45                   20    Male                1     Canada   \n",
       "\n",
       "   Gender_n  estimated_salary  \n",
       "0         0     118846.593603  \n",
       "1         1     111157.615451  \n",
       "2         1     147921.786381  \n",
       "3         0     113527.178551  \n",
       "4         1     243703.841388  "
      ]
     },
     "execution_count": 49,
     "metadata": {},
     "output_type": "execute_result"
    }
   ],
   "source": [
    "test"
   ]
  }
 ],
 "metadata": {
  "colab": {
   "provenance": []
  },
  "kernelspec": {
   "display_name": "Python 3 (ipykernel)",
   "language": "python",
   "name": "python3"
  },
  "language_info": {
   "codemirror_mode": {
    "name": "ipython",
    "version": 3
   },
   "file_extension": ".py",
   "mimetype": "text/x-python",
   "name": "python",
   "nbconvert_exporter": "python",
   "pygments_lexer": "ipython3",
   "version": "3.11.5"
  }
 },
 "nbformat": 4,
 "nbformat_minor": 5
}
